{
 "cells": [
  {
   "cell_type": "markdown",
   "id": "aaf8d850",
   "metadata": {},
   "source": [
    "# Implementações de Algoritmos de Otimização de Rotas\n",
    "\n",
    "Este notebook contém exemplos de implementação em Python para diferentes algoritmos de otimização de rotas no transporte escolar."
   ]
  },
  {
   "cell_type": "markdown",
   "id": "01adfbb6",
   "metadata": {},
   "source": [
    "## Iterated Local Search (ILS)"
   ]
  },
  {
   "cell_type": "code",
   "execution_count": null,
   "id": "3abee38c",
   "metadata": {},
   "outputs": [],
   "source": [
    "import random\n",
    "\n",
    "def generate_initial_solution(data):\n",
    "    return random.sample(data, len(data))\n",
    "\n",
    "def local_search(solution):\n",
    "    i, j = random.sample(range(len(solution)), 2)\n",
    "    solution[i], solution[j] = solution[j], solution[i]\n",
    "    return solution\n",
    "\n",
    "def perturbation(solution):\n",
    "    i, j = sorted(random.sample(range(len(solution)), 2))\n",
    "    solution[i:j+1] = reversed(solution[i:j+1])\n",
    "    return solution\n",
    "\n",
    "def iterated_local_search(data, max_iterations):\n",
    "    current_solution = generate_initial_solution(data)\n",
    "    best_solution = current_solution\n",
    "    for _ in range(max_iterations):\n",
    "        new_solution = local_search(current_solution)\n",
    "        if evaluate(new_solution) < evaluate(best_solution):\n",
    "            best_solution = new_solution\n",
    "        current_solution = perturbation(current_solution)\n",
    "    return best_solution\n",
    "\n",
    "def evaluate(solution):\n",
    "    return sum(solution)\n",
    "\n",
    "data = list(range(10))\n",
    "max_iterations = 100\n",
    "best_solution = iterated_local_search(data, max_iterations)\n",
    "print(\"Melhor solução:\", best_solution)"
   ]
  },
  {
   "cell_type": "markdown",
   "id": "d9167c60",
   "metadata": {},
   "source": [
    "## Métodos Exatos (Branch and Bound)"
   ]
  },
  {
   "cell_type": "code",
   "execution_count": null,
   "id": "e4f569bc",
   "metadata": {},
   "outputs": [],
   "source": [
    "import pulp\n",
    "\n",
    "def solve_exact_method(data):\n",
    "    problem = pulp.LpProblem(\"Roteamento\", pulp.LpMinimize)\n",
    "    x = pulp.LpVariable.dicts('x', data, lowBound=0, cat='Integer')\n",
    "    problem += pulp.lpSum([x[i] for i in data])\n",
    "    for i in data:\n",
    "        problem += x[i] >= 0\n",
    "    problem.solve()\n",
    "    solution = {i: x[i].varValue for i in data}\n",
    "    return solution\n",
    "\n",
    "data = list(range(10))\n",
    "solution = solve_exact_method(data)\n",
    "print(\"Solução exata:\", solution)"
   ]
  },
  {
   "cell_type": "markdown",
   "id": "f0941906",
   "metadata": {},
   "source": [
    "## Hybrid Iterated Local Search (HILS)"
   ]
  },
  {
   "cell_type": "code",
   "execution_count": null,
   "id": "326a4492",
   "metadata": {},
   "outputs": [],
   "source": [
    "import random\n",
    "\n",
    "def genetic_algorithm(data, population_size, generations):\n",
    "    population = [generate_initial_solution(data) for _ in range(population_size)]\n",
    "    for _ in range(generations):\n",
    "        population = sorted(population, key=evaluate)[:population_size//2]\n",
    "        offspring = [local_search(p) for p in population]\n",
    "        population.extend(offspring)\n",
    "    return min(population, key=evaluate)\n",
    "\n",
    "def hybrid_iterated_local_search(data, max_iterations, population_size, generations):\n",
    "    current_solution = genetic_algorithm(data, population_size, generations)\n",
    "    best_solution = current_solution\n",
    "    for _ in range(max_iterations):\n",
    "        new_solution = local_search(current_solution)\n",
    "        if evaluate(new_solution) < evaluate(best_solution):\n",
    "            best_solution = new_solution\n",
    "        current_solution = perturbation(current_solution)\n",
    "    return best_solution\n",
    "\n",
    "data = list(range(10))\n",
    "max_iterations = 100\n",
    "population_size = 20\n",
    "generations = 10\n",
    "best_solution = hybrid_iterated_local_search(data, max_iterations, population_size, generations)\n",
    "print(\"Melhor solução híbrida:\", best_solution)"
   ]
  },
  {
   "cell_type": "markdown",
   "id": "1a125eec",
   "metadata": {},
   "source": [
    "## Greedy Randomized Adaptive Search Procedure (GRASP)"
   ]
  },
  {
   "cell_type": "code",
   "execution_count": null,
   "id": "a1375eb4",
   "metadata": {},
   "outputs": [],
   "source": [
    "import random\n",
    "\n",
    "def grasp(data, iterations):\n",
    "    def greedy_randomized_construction(data):\n",
    "        return random.sample(data, len(data))\n",
    "\n",
    "    best_solution = None\n",
    "    for _ in range(iterations):\n",
    "        solution = greedy_randomized_construction(data)\n",
    "        solution = local_search(solution)\n",
    "        if best_solution is None or evaluate(solution) < evaluate(best_solution):\n",
    "            best_solution = solution\n",
    "    return best_solution\n",
    "\n",
    "data = list(range(10))\n",
    "iterations = 100\n",
    "best_solution = grasp(data, iterations)\n",
    "print(\"Melhor solução GRASP:\", best_solution)"
   ]
  },
  {
   "cell_type": "markdown",
   "id": "4271e2b0",
   "metadata": {},
   "source": [
    "## Logic-based Benders Decomposition"
   ]
  },
  {
   "cell_type": "code",
   "execution_count": null,
   "id": "bb5ec460",
   "metadata": {},
   "outputs": [],
   "source": [
    "# Pseudocódigo para Benders\n",
    "def benders_decomposition(data):\n",
    "    master_problem = create_master_problem(data)\n",
    "    subproblems = create_subproblems(data)\n",
    "    \n",
    "    while not stopping_criteria():\n",
    "        master_solution = solve_master_problem(master_problem)\n",
    "        subproblem_solutions = solve_subproblems(subproblems, master_solution)\n",
    "        if is_feasible(subproblem_solutions):\n",
    "            return master_solution, subproblem_solutions\n",
    "        add_cuts(master_problem, subproblem_solutions)\n",
    "\n",
    "def create_master_problem(data):\n",
    "    pass\n",
    "\n",
    "def solve_master_problem(problem):\n",
    "    pass\n",
    "\n",
    "def create_subproblems(data):\n",
    "    pass\n",
    "\n",
    "def solve_subproblems(problems, master_solution):\n",
    "    pass\n",
    "\n",
    "def add_cuts(problem, solutions):\n",
    "    pass\n",
    "\n",
    "def stopping_criteria():\n",
    "    return False\n",
    "\n",
    "def is_feasible(solutions):\n",
    "    return True\n",
    "\n",
    "data = list(range(10))\n",
    "solution = benders_decomposition(data)\n",
    "print(\"Solução de Benders:\", solution)"
   ]
  },
  {
   "cell_type": "markdown",
   "id": "87669c77",
   "metadata": {},
   "source": [
    "## Biased Random-Key Genetic Algorithm (BRKGA)"
   ]
  },
  {
   "cell_type": "code",
   "execution_count": null,
   "id": "eead8f06",
   "metadata": {},
   "outputs": [],
   "source": [
    "import random\n",
    "\n",
    "class BRKGA:\n",
    "    def __init__(self, data, population_size, generations):\n",
    "        self.data = data\n",
    "        self.population_size = population_size\n",
    "        self.generations = generations\n",
    "        self.population = self.initialize_population()\n",
    "    \n",
    "    def initialize_population(self):\n",
    "        return [self.random_key_individual() for _ in range(self.population_size)]\n",
    "    \n",
    "    def random_key_individual(self):\n",
    "        return [random.random() for _ in self.data]\n",
    "    \n",
    "    def decode(self, individual):\n",
    "        return sorted(range(len(individual)), key=lambda k: individual[k])\n",
    "    \n",
    "    def evaluate(self, individual):\n",
    "        decoded_solution = self.decode(individual)\n",
    "        return sum(decoded_solution)\n",
    "    \n",
    "    def select_parents(self):\n",
    "        return sorted(self.population, key=self.evaluate)[:self.population_size//2]\n",
    "    \n",
    "    def crossover(self, parent1, parent2):\n",
    "        return [random.choice([gene1, gene2]) for gene1, gene2 in zip(parent1, parent2)]\n",
    "    \n",
    "    def mutate(self, individual):\n",
    "        i = random.randint(0, len(individual) - 1)\n",
    "        individual[i] = random.random()\n",
    "        return individual\n",
    "    \n",
    "    def evolve(self):\n",
    "        for _ in range(self.generations):\n",
    "            parents = self.select_parents()\n",
    "            offspring = [self.mutate(self.crossover(random.choice(parents), random.choice(parents))) for _ in range(self.population_size)]\n",
    "            self.population = parents + offspring\n",
    "        best_individual = min(self.population, key=self.evaluate)\n",
    "        return self.decode(best_individual)\n",
    "\n",
    "data = list(range(10))\n",
    "brkga = BRKGA(data, population_size=20, generations=100)\n",
    "best_solution = brkga.evolve()\n",
    "print(\"Melhor solução BRKGA:\", best_solution)"
   ]
  }
 ],
 "metadata": {
  "kernelspec": {
   "display_name": "Python 3",
   "language": "python",
   "name": "python3"
  },
  "language_info": {
   "codemirror_mode": {
    "name": "ipython",
    "version": 3
   },
   "file_extension": ".py",
   "mimetype": "text/x-python",
   "name": "python",
   "nbconvert_exporter": "python",
   "pygments_lexer": "ipython3",
   "version": "3.8.8"
  }
 },
 "nbformat": 4,
 "nbformat_minor": 5
}
